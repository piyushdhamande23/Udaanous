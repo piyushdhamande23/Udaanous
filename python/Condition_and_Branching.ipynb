{
  "nbformat": 4,
  "nbformat_minor": 0,
  "metadata": {
    "colab": {
      "provenance": []
    },
    "kernelspec": {
      "name": "python3",
      "display_name": "Python 3"
    },
    "language_info": {
      "name": "python"
    }
  },
  "cells": [
    {
      "cell_type": "code",
      "execution_count": 1,
      "metadata": {
        "colab": {
          "base_uri": "https://localhost:8080/"
        },
        "id": "chQF55HPF0AI",
        "outputId": "15362741-31ce-4ecd-d776-0accd4761d41"
      },
      "outputs": [
        {
          "output_type": "stream",
          "name": "stdout",
          "text": [
            "x is greater than 5\n"
          ]
        }
      ],
      "source": [
        "#condition\n",
        "x=10\n",
        "if x > 5:\n",
        "  print(\"x is greater than 5\")\n",
        ""
      ]
    },
    {
      "cell_type": "code",
      "source": [
        "#comparision operator\n",
        "a=10\n",
        "b=20\n",
        "print(a==b)\n",
        "print(a<b)\n"
      ],
      "metadata": {
        "colab": {
          "base_uri": "https://localhost:8080/"
        },
        "id": "IR0uHfKQG1A5",
        "outputId": "c04e8c2e-455f-4393-91d4-70cc63cb1c76"
      },
      "execution_count": 2,
      "outputs": [
        {
          "output_type": "stream",
          "name": "stdout",
          "text": [
            "False\n",
            "True\n"
          ]
        }
      ]
    },
    {
      "cell_type": "code",
      "source": [
        "#branching\n",
        "age=18\n",
        "if age >= 18:\n",
        "  print(\"Eligible to vote\")\n",
        "else:\n",
        "  print(\"Not eligible to vate\")\n"
      ],
      "metadata": {
        "colab": {
          "base_uri": "https://localhost:8080/"
        },
        "id": "82IbHuAoHeDh",
        "outputId": "ce782a75-fc91-4b82-8581-d7034e596fa4"
      },
      "execution_count": 5,
      "outputs": [
        {
          "output_type": "stream",
          "name": "stdout",
          "text": [
            "Eligible to vote\n"
          ]
        }
      ]
    },
    {
      "cell_type": "code",
      "source": [
        "#if statement\n",
        "number =7\n",
        "if number % 2 ==1:\n",
        "  print(\"The number is odd\")"
      ],
      "metadata": {
        "colab": {
          "base_uri": "https://localhost:8080/"
        },
        "id": "owDCMbveH8F5",
        "outputId": "0dea32d2-fc83-47fb-8d22-4ae0be4ef9b4"
      },
      "execution_count": 6,
      "outputs": [
        {
          "output_type": "stream",
          "name": "stdout",
          "text": [
            "The number is odd\n"
          ]
        }
      ]
    },
    {
      "cell_type": "code",
      "source": [
        "#if else statement\n",
        "marks = 70\n",
        "if marks >= 50:\n",
        "  print(\"Pass\")\n",
        "else:\n",
        "  print(\"Fail\")\n",
        ""
      ],
      "metadata": {
        "colab": {
          "base_uri": "https://localhost:8080/"
        },
        "id": "5bZtXfelIVoA",
        "outputId": "066f065c-5418-4e30-fd38-4f36b2baf18d"
      },
      "execution_count": 7,
      "outputs": [
        {
          "output_type": "stream",
          "name": "stdout",
          "text": [
            "Pass\n"
          ]
        }
      ]
    },
    {
      "cell_type": "code",
      "source": [
        "#if elif-else statement\n",
        "score = 85\n",
        "if score >= 90:\n",
        "  print(\"Grade A\")\n",
        "elif score >= 75:\n",
        "  print(\"Grade B\")\n",
        "else:\n",
        "  print(\"Grade C\")"
      ],
      "metadata": {
        "colab": {
          "base_uri": "https://localhost:8080/"
        },
        "id": "unOfh9m5JGGK",
        "outputId": "8342c828-e9f8-43c1-bcb2-2513a7581484"
      },
      "execution_count": 8,
      "outputs": [
        {
          "output_type": "stream",
          "name": "stdout",
          "text": [
            "Grade B\n"
          ]
        }
      ]
    },
    {
      "cell_type": "code",
      "source": [
        "#if-else Statement + or\n",
        "temperature = 35\n",
        "if temperature < 0 or temperature >30:\n",
        "  print(\"Extreme Weather\")\n",
        "else:\n",
        "  print(\"Normal Weather\")"
      ],
      "metadata": {
        "colab": {
          "base_uri": "https://localhost:8080/"
        },
        "id": "2zG0UWToJ4Bw",
        "outputId": "d69445fc-a9a2-4d70-9df2-4ef70d229270"
      },
      "execution_count": 9,
      "outputs": [
        {
          "output_type": "stream",
          "name": "stdout",
          "text": [
            "Extreme Weather\n"
          ]
        }
      ]
    },
    {
      "cell_type": "code",
      "source": [
        "#if-else Statement + and\n",
        "age=25\n",
        "income = 50000\n",
        "if age >18 and income > 30000:\n",
        "  print(\"Eligible for loan\")\n",
        "else:\n",
        "  print(\"Not eligible for loan\")\n",
        ""
      ],
      "metadata": {
        "colab": {
          "base_uri": "https://localhost:8080/"
        },
        "id": "XJ8ERO5TLCrw",
        "outputId": "21b7df8b-7dbf-4a6b-844a-754a809e6f66"
      },
      "execution_count": 10,
      "outputs": [
        {
          "output_type": "stream",
          "name": "stdout",
          "text": [
            "Eligible for loan\n"
          ]
        }
      ]
    }
  ]
}