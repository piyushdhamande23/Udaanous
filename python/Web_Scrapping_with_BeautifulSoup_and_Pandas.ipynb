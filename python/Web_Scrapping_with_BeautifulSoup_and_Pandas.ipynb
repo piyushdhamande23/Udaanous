{
  "nbformat": 4,
  "nbformat_minor": 0,
  "metadata": {
    "colab": {
      "provenance": []
    },
    "kernelspec": {
      "name": "python3",
      "display_name": "Python 3"
    },
    "language_info": {
      "name": "python"
    }
  },
  "cells": [
    {
      "cell_type": "code",
      "execution_count": 3,
      "metadata": {
        "id": "xGIshK5eXO8Q",
        "colab": {
          "base_uri": "https://localhost:8080/"
        },
        "outputId": "6523ae8c-3dc4-42f6-8f42-dc485e8b0cc9"
      },
      "outputs": [
        {
          "output_type": "stream",
          "name": "stdout",
          "text": [
            "Requirement already satisfied: requests in /usr/local/lib/python3.11/dist-packages (2.32.3)\n",
            "Requirement already satisfied: charset-normalizer<4,>=2 in /usr/local/lib/python3.11/dist-packages (from requests) (3.4.1)\n",
            "Requirement already satisfied: idna<4,>=2.5 in /usr/local/lib/python3.11/dist-packages (from requests) (3.10)\n",
            "Requirement already satisfied: urllib3<3,>=1.21.1 in /usr/local/lib/python3.11/dist-packages (from requests) (2.4.0)\n",
            "Requirement already satisfied: certifi>=2017.4.17 in /usr/local/lib/python3.11/dist-packages (from requests) (2025.4.26)\n",
            "Requirement already satisfied: beautifulsoup4 in /usr/local/lib/python3.11/dist-packages (4.13.4)\n",
            "Requirement already satisfied: soupsieve>1.2 in /usr/local/lib/python3.11/dist-packages (from beautifulsoup4) (2.7)\n",
            "Requirement already satisfied: typing-extensions>=4.0.0 in /usr/local/lib/python3.11/dist-packages (from beautifulsoup4) (4.13.2)\n"
          ]
        }
      ],
      "source": [
        "!pip install requests\n",
        "!pip install beautifulsoup4\n",
        "\n"
      ]
    },
    {
      "cell_type": "code",
      "source": [
        "import requests\n",
        "from bs4 import BeautifulSoup\n",
        "import pandas as pd\n"
      ],
      "metadata": {
        "id": "vOI4rjkOL2tx"
      },
      "execution_count": 5,
      "outputs": []
    },
    {
      "cell_type": "code",
      "source": [
        "url = \"https://www.amazon.in/electronics/b/?ie=UTF8&node=976419031&ref_=nav_cs_electronics\"\n",
        "response = requests.get(url)\n",
        "html_content = response.text"
      ],
      "metadata": {
        "id": "xXXOYTP6NjIR"
      },
      "execution_count": 6,
      "outputs": []
    },
    {
      "cell_type": "code",
      "source": [
        "if response.status_code == 200:\n",
        "    print(\"Request successful!\")"
      ],
      "metadata": {
        "colab": {
          "base_uri": "https://localhost:8080/"
        },
        "id": "89bnZVxgN-a9",
        "outputId": "0676c1c9-3c2c-426a-9229-15c04fa2e20d"
      },
      "execution_count": 7,
      "outputs": [
        {
          "output_type": "stream",
          "name": "stdout",
          "text": [
            "Request successful!\n"
          ]
        }
      ]
    },
    {
      "cell_type": "code",
      "source": [
        "soup = BeautifulSoup(html_content, 'html.parser')"
      ],
      "metadata": {
        "id": "1er10xa4OJe-"
      },
      "execution_count": 8,
      "outputs": []
    },
    {
      "cell_type": "code",
      "source": [
        "headings = [heading.text.strip() for heading in soup.find_all(['h1', 'h2', 'h3'])]\n",
        "print(headings)"
      ],
      "metadata": {
        "colab": {
          "base_uri": "https://localhost:8080/"
        },
        "id": "aPHQcKVmOPPF",
        "outputId": "4bb13ffb-1c1e-4ac8-b053-0efaaaebb26c"
      },
      "execution_count": 9,
      "outputs": [
        {
          "output_type": "stream",
          "name": "stdout",
          "text": [
            "['Skip to', 'Keyboard shortcuts']\n"
          ]
        }
      ]
    },
    {
      "cell_type": "code",
      "source": [
        "paragraphs = [p.text.strip() for p in soup.find_all('p')]\n",
        "print(paragraphs)"
      ],
      "metadata": {
        "colab": {
          "base_uri": "https://localhost:8080/"
        },
        "id": "GquwiOmrOVjO",
        "outputId": "c2f17a06-1bbf-48a4-8b59-ff4ca1610fd7"
      },
      "execution_count": 10,
      "outputs": [
        {
          "output_type": "stream",
          "name": "stdout",
          "text": [
            "[]\n"
          ]
        }
      ]
    },
    {
      "cell_type": "code",
      "source": [
        "links = [a['href'] for a in soup.find_all('a', href = True)]\n",
        "print(links)"
      ],
      "metadata": {
        "colab": {
          "base_uri": "https://localhost:8080/"
        },
        "id": "5YoZ79WdOaod",
        "outputId": "9912b0a4-56f0-4ff4-8efd-7dc8cdfcb689"
      },
      "execution_count": 11,
      "outputs": [
        {
          "output_type": "stream",
          "name": "stdout",
          "text": [
            "['#skippedLink', '/ref=nav_logo', '', '/customer-preferences/edit?ie=UTF8&preferencesReturnUrl=%2F&ref_=topnav_lang', 'https://www.amazon.in/ap/signin?openid.pape.max_auth_age=0&openid.return_to=https%3A%2F%2Fwww.amazon.in%2Felectronics%2Fb%2F%3F_encoding%3DUTF8%26ie%3DUTF8%26node%3D976419031%26ref_%3Dnav_ya_signin&openid.identity=http%3A%2F%2Fspecs.openid.net%2Fauth%2F2.0%2Fidentifier_select&openid.assoc_handle=inflex&openid.mode=checkid_setup&openid.claimed_id=http%3A%2F%2Fspecs.openid.net%2Fauth%2F2.0%2Fidentifier_select&openid.ns=http%3A%2F%2Fspecs.openid.net%2Fauth%2F2.0', '/gp/css/order-history?ref_=nav_orders_first', '/gp/cart/view.html?ref_=nav_cart', '/gp/site-directory?ref_=nav_em_js_disabled', '/fresh?ref_=nav_cs_grocery', '/minitv?ref_=nav_avod_desktop_topnav', '/b/32702023031?node=32702023031&ld=AZINSOANavDesktop_T3&ref_=nav_cs_sell_T3', '/gp/bestsellers/?ref_=nav_cs_bestsellers', '/deals?ref_=nav_cs_gb', '/mobile-phones/b/?ie=UTF8&node=1389401031&ref_=nav_cs_mobiles', '/prime?ref_=nav_cs_primelink_nonmember', '/gp/browse.html?node=6648217031&ref_=nav_cs_fashion', '/gp/help/customer/display.html?nodeId=200507590&ref_=nav_cs_help', '/gp/new-releases/?ref_=nav_cs_newreleases', '/electronics/b/?ie=UTF8&node=976419031&ref_=nav_cs_electronics', '/gp/sva/dashboard?ref_=nav_cs_apay', '/Home-Kitchen/b/?ie=UTF8&node=976442031&ref_=nav_cs_home', '/computers-and-accessories/b/?ie=UTF8&node=976392031&ref_=nav_cs_pc', '/Books/b/?ie=UTF8&node=976389031&ref_=nav_cs_books', '/Car-Motorbike-Store/b/?ie=UTF8&node=4772060031&ref_=nav_cs_automotive', '/Toys-Games/b/?ie=UTF8&node=1350380031&ref_=nav_cs_toys', '/beauty/b/?ie=UTF8&node=1355016031&ref_=nav_cs_beauty', '/Home-Improvement/b/?ie=UTF8&node=4286640031&ref_=nav_cs_hi', '/gift-card-store/b/?ie=UTF8&node=3704982031&ref_=nav_cs_gc', '/health-and-personal-care/b/?ie=UTF8&node=1350384031&ref_=nav_cs_hpc', '/Gourmet-Specialty-Foods/b/?ie=UTF8&node=2454178031&ref_=nav_cs_grocery', '/Amazon-Custom/b/?ie=UTF8&node=32615889031&ref_=nav_cs_custom', '/Sports/b/?ie=UTF8&node=1984443031&ref_=nav_cs_sports', '/Baby/b/?ie=UTF8&node=1571274031&ref_=nav_cs_baby', '/Pet-Supplies/b/?ie=UTF8&node=2454181031&ref_=nav_cs_pets', '/gcx/-/gfhz/?ref_=nav_cs_giftfinder', '/video-games/b/?ie=UTF8&node=976460031&ref_=nav_cs_video_games', '/b/?node=6637738031&ref_=nav_cs_amazonbasics', '/Audible-Books-and-Originals/b/?ie=UTF8&node=17941593031&ref_=nav_cs_audible', '/auto-deliveries/landing?ref_=nav_cs_sns', '/Kindle-eBooks/b/?ie=UTF8&node=1634753031&ref_=nav_cs_kindle_books', '/gp/history', '/gp/history', 'https://www.aboutamazon.in/?utm_source=gateway&utm_medium=footer', 'https://amazon.jobs', 'https://press.aboutamazon.in/?utm_source=gateway&utm_medium=footer', 'https://www.amazon.science', 'https://www.amazon.in/gp/redirect.html/ref=footer_fb?location=http://www.facebook.com/AmazonIN&token=2075D5EAC7BB214089728E2183FD391706D41E94&6', 'https://www.amazon.in/gp/redirect.html/ref=footer_twitter?location=http://twitter.com/AmazonIN&token=A309DFBFCB1E37A808FF531934855DC817F130B6&6', 'https://www.amazon.in/gp/redirect.html?location=https://www.instagram.com/amazondotin&token=264882C912E9D005CB1D9B61F12E125D5DF9BFC7&source=standards', '/b/?node=2838698031&ld=AZINSOANavDesktopFooter_C&ref_=nav_footer_sell_C', 'https://accelerator.amazon.in/?ref_=map_1_b2b_GW_FT', 'https://brandservices.amazon.in/?ref=AOINABRLGNRFOOT&ld=AOINABRLGNRFOOT', 'https://sell.amazon.in/grow-your-business/amazon-global-selling.html?ld=AZIN_Footer_V1&ref=AZIN_Footer_V1', 'https://supply.amazon.com/?ref_=footer_sta&lang=en-IN', 'https://affiliate-program.amazon.in/?utm_campaign=assocshowcase&utm_medium=footer&utm_source=GW&ref_=footer_assoc', 'https://services.amazon.in/services/fulfilment-by-amazon/benefits.html/ref=az_footer_fba?ld=AWRGINFBAfooter', 'https://advertising.amazon.in/?ref=Amz.in', 'https://www.amazonpay.in/merchant', '/gp/css/homepage.html?ref_=footer_ya', '/gp/css/returns/homepage.html?ref_=footer_hy_f_4', 'https://www.amazon.in/your-product-safety-alerts?ref_=footer_bsx_ypsa', '/gp/help/customer/display.html?nodeId=201083470&ref_=footer_swc', '/gp/browse.html?node=6967393031&ref_=footer_mobapp', '/gp/help/customer/display.html?nodeId=200507590&ref_=footer_gw_m_b_he', '/ref=footer_logo', '/customer-preferences/edit?ie=UTF8&preferencesReturnUrl=%2F&ref_=footer_lang', '/customer-preferences/country?ie=UTF8&preferencesReturnUrl=%2F&ref_=footer_icp_cp', 'https://www.abebooks.com/', 'https://aws.amazon.com/what-is-cloud-computing/?sc_channel=EL&sc_campaign=IN_amazonfooter', 'https://www.audible.in/', 'https://www.imdb.com/', 'https://www.shopbop.com/', '/business?ref=footer_aingw', '/now?ref=footer_amznow', '/music/prime?ref=footer_apm', '/gp/help/customer/display.html?nodeId=200545940&ref_=footer_cou', '/gp/help/customer/display.html?nodeId=200534380&ref_=footer_privacy', '/gp/help/customer/display.html?nodeId=202075050&ref_=footer_iba']\n"
          ]
        }
      ]
    },
    {
      "cell_type": "code",
      "source": [
        "infobox = soup.find('table', class_ = 'infobox')\n",
        "\n",
        "if infobox:\n",
        "    rows = infobox.find_all('tr')\n",
        "\n",
        "    data = {}\n",
        "    for row in rows:\n",
        "        header = row.find('th')\n",
        "        value = row.find('td')\n",
        "        if header and value:\n",
        "            data[header.text.strip()] = value.text.strip()\n",
        "        print(data)\n",
        "else:\n",
        "    print(\"Infobox table not found.\")"
      ],
      "metadata": {
        "colab": {
          "base_uri": "https://localhost:8080/"
        },
        "id": "5ePn6kQdOh-W",
        "outputId": "087de3d7-f227-49e1-82b6-72746d92e735"
      },
      "execution_count": 13,
      "outputs": [
        {
          "output_type": "stream",
          "name": "stdout",
          "text": [
            "Infobox table not found.\n"
          ]
        }
      ]
    }
  ]
}