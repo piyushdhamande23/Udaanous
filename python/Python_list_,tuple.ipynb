{
  "nbformat": 4,
  "nbformat_minor": 0,
  "metadata": {
    "colab": {
      "provenance": []
    },
    "kernelspec": {
      "name": "python3",
      "display_name": "Python 3"
    },
    "language_info": {
      "name": "python"
    }
  },
  "cells": [
    {
      "cell_type": "code",
      "execution_count": null,
      "metadata": {
        "colab": {
          "base_uri": "https://localhost:8080/"
        },
        "id": "RKXXzsOkZmSr",
        "outputId": "460ea4e9-4f60-4499-fce1-b31b4d7eb08d"
      },
      "outputs": [
        {
          "output_type": "execute_result",
          "data": {
            "text/plain": [
              "6"
            ]
          },
          "metadata": {},
          "execution_count": 5
        }
      ],
      "source": [
        "# Define the nested tuple\n",
        "nested_tuple = ((1, 2, 3), (4, 5, 6), (7, 8, 9))\n",
        "\n",
        "last_element = nested_tuple[1][2]\n",
        "last_element"
      ]
    },
    {
      "cell_type": "code",
      "source": [
        "# Define the nested list\n",
        "nested_list = [[\"a\", \"b\", \"c\"], [1, 2, 3], [\"x\", \"y\", \"z\"]]\n",
        "\n",
        "last_list_element = nested_list[1][2]\n",
        "last_list_element"
      ],
      "metadata": {
        "colab": {
          "base_uri": "https://localhost:8080/"
        },
        "id": "uvgDzrUjaaQc",
        "outputId": "61b94a32-e1c2-4957-d61a-370bd626bd9a"
      },
      "execution_count": null,
      "outputs": [
        {
          "output_type": "execute_result",
          "data": {
            "text/plain": [
              "3"
            ]
          },
          "metadata": {},
          "execution_count": 10
        }
      ]
    },
    {
      "cell_type": "code",
      "source": [
        "# Define the list\n",
        "numbers = [10, 20, 30, 40, 50]\n",
        "\n",
        "numbers[-3:]"
      ],
      "metadata": {
        "colab": {
          "base_uri": "https://localhost:8080/"
        },
        "id": "0X84js7nczDx",
        "outputId": "bd24a2e7-9436-49a6-afc0-01c5c7d74553"
      },
      "execution_count": null,
      "outputs": [
        {
          "output_type": "execute_result",
          "data": {
            "text/plain": [
              "[30, 40, 50]"
            ]
          },
          "metadata": {},
          "execution_count": 11
        }
      ]
    },
    {
      "cell_type": "code",
      "source": [
        "# Define the list\n",
        "numbers = [10, 20, 30, 40, 50, 60]\n",
        "\n",
        "numbers[1:5:2]"
      ],
      "metadata": {
        "id": "a_K4IK_0dKwM",
        "outputId": "a6955dc1-ed68-48a0-877b-07b4cb443f90",
        "colab": {
          "base_uri": "https://localhost:8080/"
        }
      },
      "execution_count": null,
      "outputs": [
        {
          "output_type": "execute_result",
          "data": {
            "text/plain": [
              "[20, 40]"
            ]
          },
          "metadata": {},
          "execution_count": 12
        }
      ]
    },
    {
      "cell_type": "code",
      "source": [
        "# Define the list\n",
        "fruits = [\"apple\", \"banana\", \"cherry\"]\n",
        "\n",
        "fruits.append(\"orange\")\n",
        "fruits"
      ],
      "metadata": {
        "colab": {
          "base_uri": "https://localhost:8080/"
        },
        "id": "r5SCRlYufx4s",
        "outputId": "b9e8b442-09ab-4c18-bf08-fd6dbf46653d"
      },
      "execution_count": 16,
      "outputs": [
        {
          "output_type": "execute_result",
          "data": {
            "text/plain": [
              "['apple', 'banana', 'cherry', 'orange']"
            ]
          },
          "metadata": {},
          "execution_count": 16
        }
      ]
    },
    {
      "cell_type": "code",
      "source": [
        "# Define the list\n",
        "fruits = [\"apple\", \"banana\", \"cherry\", \"orange\"]\n",
        "\n",
        "fruits.remove(\"banana\")\n",
        "fruits"
      ],
      "metadata": {
        "colab": {
          "base_uri": "https://localhost:8080/"
        },
        "id": "BFc99sWggTFt",
        "outputId": "c9899c90-7587-48a6-98f4-ae944802757b"
      },
      "execution_count": 17,
      "outputs": [
        {
          "output_type": "execute_result",
          "data": {
            "text/plain": [
              "['apple', 'cherry', 'orange']"
            ]
          },
          "metadata": {},
          "execution_count": 17
        }
      ]
    }
  ]
}