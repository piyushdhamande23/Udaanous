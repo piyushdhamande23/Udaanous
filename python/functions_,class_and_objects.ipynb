{
  "nbformat": 4,
  "nbformat_minor": 0,
  "metadata": {
    "colab": {
      "provenance": []
    },
    "kernelspec": {
      "name": "python3",
      "display_name": "Python 3"
    },
    "language_info": {
      "name": "python"
    }
  },
  "cells": [
    {
      "cell_type": "code",
      "execution_count": 4,
      "metadata": {
        "colab": {
          "base_uri": "https://localhost:8080/"
        },
        "id": "CEDTNH1P4Z6T",
        "outputId": "3209a95b-b81a-474f-d772-e784f9f9bfe1"
      },
      "outputs": [
        {
          "output_type": "stream",
          "name": "stdout",
          "text": [
            "Hello,Alice!\n",
            "Hello,David!\n"
          ]
        }
      ],
      "source": [
        "#functions\n",
        "def greet(name):\n",
        "  print(f\"Hello,{name}!\")\n",
        "\n",
        "greet(\"Alice\")\n",
        "greet(\"David\")\n"
      ]
    },
    {
      "cell_type": "code",
      "source": [
        "#function development\n",
        "def square (number):\n",
        "  return number*number\n",
        "\n",
        "result = square(5)\n",
        "print(f\"the square of 5 is {result}\")\n",
        "\n"
      ],
      "metadata": {
        "colab": {
          "base_uri": "https://localhost:8080/"
        },
        "id": "XbCOj_Y7_5CI",
        "outputId": "64bc6a40-22ba-43c4-f20d-6ace1d1e5d08"
      },
      "execution_count": 5,
      "outputs": [
        {
          "output_type": "stream",
          "name": "stdout",
          "text": [
            "the square of 5 is 25\n"
          ]
        }
      ]
    },
    {
      "cell_type": "code",
      "source": [
        "#function return Vs print\n",
        "#function with return\n",
        "def add(a,b):\n",
        "  return a+b\n",
        "\n",
        "result= add(3,4)\n",
        "print(result)\n",
        "\n",
        "#function with print\n",
        "def display_sum(a,b):\n",
        "  print(f\"the addition is:{a+b}\")\n",
        "\n",
        "display_sum(3,4)\n",
        "\n"
      ],
      "metadata": {
        "colab": {
          "base_uri": "https://localhost:8080/"
        },
        "id": "37MzMIg9DXCM",
        "outputId": "caf12648-09d7-466a-eb77-b29c040574bd"
      },
      "execution_count": 8,
      "outputs": [
        {
          "output_type": "stream",
          "name": "stdout",
          "text": [
            "7\n",
            "the addition is:7\n"
          ]
        }
      ]
    },
    {
      "cell_type": "code",
      "source": [
        "#function- multiple task\n",
        "def process_temperature(temp):\n",
        "    if temp < -273.15:\n",
        "        return \"Invalid temperature! Below absolute zero\"\n",
        "    elif temp >100:\n",
        "        return \"Temperature exceeds boiling point!\"\n",
        "    else:\n",
        "        return f\"Temperature in Fahrenheit:{temp * 9/5 + 32}\"\n",
        "\n",
        "print(process_temperature(-300))\n",
        "print(process_temperature(50))\n",
        "\n"
      ],
      "metadata": {
        "colab": {
          "base_uri": "https://localhost:8080/"
        },
        "id": "QvFZDazxEgcb",
        "outputId": "a96d4412-a549-4697-b9aa-078fbcb1cdc6"
      },
      "execution_count": 11,
      "outputs": [
        {
          "output_type": "stream",
          "name": "stdout",
          "text": [
            "Invalid temperature! Below absolute zero\n",
            "Temperature in Fahrenheit:122.0\n"
          ]
        }
      ]
    },
    {
      "cell_type": "code",
      "source": [
        "#function arguments\n",
        "def greet_person(name,age):\n",
        "  print(f\"Hello,{name}!You are {age} years old.\")\n",
        "\n",
        "greet_person(\"Alice\",30)\n",
        "greet_person(\"Bob\",25)\n"
      ],
      "metadata": {
        "colab": {
          "base_uri": "https://localhost:8080/"
        },
        "id": "fQLx6H9XHVD2",
        "outputId": "0772f3a2-58a8-442f-fb79-8815831e47f5"
      },
      "execution_count": 12,
      "outputs": [
        {
          "output_type": "stream",
          "name": "stdout",
          "text": [
            "Hello,Alice!You are 30 years old.\n",
            "Hello,Bob!You are 25 years old.\n"
          ]
        }
      ]
    },
    {
      "cell_type": "code",
      "source": [
        "#Global variable\n",
        "counter = 0\n",
        "def increment():\n",
        "  global counter\n",
        "  counter +=1\n",
        "  print(f\"Counter increment to{counter}\")\n",
        "\n",
        "def reset():\n",
        "  global counter\n",
        "  counter =0\n",
        "  print(\"Counter reset to 0\")\n",
        "\n",
        "increment()\n",
        "increment()\n",
        "reset()\n",
        ""
      ],
      "metadata": {
        "colab": {
          "base_uri": "https://localhost:8080/"
        },
        "id": "XHIroSPgIV8q",
        "outputId": "48debd02-677c-4846-9321-940e67d8bca7"
      },
      "execution_count": 14,
      "outputs": [
        {
          "output_type": "stream",
          "name": "stdout",
          "text": [
            "Counter increment to1\n",
            "Counter increment to2\n",
            "Counter reset to 0\n"
          ]
        }
      ]
    },
    {
      "cell_type": "code",
      "source": [
        "#local variable\n",
        "def calculate_area(radius):\n",
        "  pi= 3.14159\n",
        "  return pi* radius ** 2\n",
        "\n",
        "area = calculate_area(5)\n",
        "print(f\"The area is:{area}\")\n",
        "\n"
      ],
      "metadata": {
        "colab": {
          "base_uri": "https://localhost:8080/"
        },
        "id": "Fi2_mbPNJdEl",
        "outputId": "4b806c1a-d5d6-4109-e5d2-84ddfa0487c0"
      },
      "execution_count": 15,
      "outputs": [
        {
          "output_type": "stream",
          "name": "stdout",
          "text": [
            "The area is:78.53975\n"
          ]
        }
      ]
    },
    {
      "cell_type": "code",
      "source": [
        "#class\n",
        "class Car:\n",
        "  brand = \"Toyota\"\n",
        "  wheels=4\n",
        "\n",
        "  def start_engine(self):\n",
        "    return \"The engine has started.\"\n",
        ""
      ],
      "metadata": {
        "id": "0XGLV45YU8ny"
      },
      "execution_count": 19,
      "outputs": []
    },
    {
      "cell_type": "code",
      "source": [
        "#Object\n",
        "my_car = Car()\n",
        "print(my_car.brand)\n",
        "print(my_car.start_engine())\n",
        "\n"
      ],
      "metadata": {
        "colab": {
          "base_uri": "https://localhost:8080/"
        },
        "id": "BUAIc87xXcw8",
        "outputId": "cd6c7c31-958e-4fdd-f1e9-503a41a5a13e"
      },
      "execution_count": 20,
      "outputs": [
        {
          "output_type": "stream",
          "name": "stdout",
          "text": [
            "Toyota\n",
            "The engine has started.\n"
          ]
        }
      ]
    },
    {
      "cell_type": "code",
      "source": [
        "#class and object\n",
        "class Calculator:\n",
        "  def __init__(self,num1,num2):\n",
        "    self.num1=num1\n",
        "    self.num2=num2\n",
        "\n",
        "  def add(self):\n",
        "    return self.num1 + self.num2\n",
        "\n",
        "\n",
        "cal = Calculator(5,3)\n",
        "print(cal.add())\n"
      ],
      "metadata": {
        "colab": {
          "base_uri": "https://localhost:8080/"
        },
        "id": "wFGe39leX_tT",
        "outputId": "ce67e8da-96fc-4c72-843d-17a2b98414cc"
      },
      "execution_count": 27,
      "outputs": [
        {
          "output_type": "stream",
          "name": "stdout",
          "text": [
            "8\n"
          ]
        }
      ]
    }
  ]
}