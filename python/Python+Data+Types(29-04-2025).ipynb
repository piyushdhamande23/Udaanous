{
  "nbformat": 4,
  "nbformat_minor": 0,
  "metadata": {
    "colab": {
      "provenance": []
    },
    "kernelspec": {
      "name": "python3",
      "display_name": "Python 3"
    },
    "language_info": {
      "name": "python"
    }
  },
  "cells": [
    {
      "cell_type": "code",
      "execution_count": 2,
      "metadata": {
        "colab": {
          "base_uri": "https://localhost:8080/"
        },
        "id": "8luzsoQIBTZ8",
        "outputId": "a8b22494-78f9-4e54-ddc3-e033738b3a5f"
      },
      "outputs": [
        {
          "output_type": "stream",
          "name": "stdout",
          "text": [
            "25 as an integer\n"
          ]
        }
      ],
      "source": [
        "# Problem 1: Convert a string representing a number into an integer\n",
        "string_number = \"25\"\n",
        "# Expected output: 25 as an integer\n",
        "print(string_number,\"as an integer\")"
      ]
    },
    {
      "cell_type": "code",
      "source": [
        "type(string_number)"
      ],
      "metadata": {
        "colab": {
          "base_uri": "https://localhost:8080/"
        },
        "id": "_p2qUCrIB_0u",
        "outputId": "75d09d0a-7045-4f63-9ee1-f8b6e6ec9516"
      },
      "execution_count": 3,
      "outputs": [
        {
          "output_type": "execute_result",
          "data": {
            "text/plain": [
              "str"
            ]
          },
          "metadata": {},
          "execution_count": 3
        }
      ]
    },
    {
      "cell_type": "code",
      "source": [
        "int_number = int(string_number)\n",
        "print(int_number, type(int_number))"
      ],
      "metadata": {
        "colab": {
          "base_uri": "https://localhost:8080/"
        },
        "id": "wtIMnFLzCH7l",
        "outputId": "b6f40209-ded5-49e1-a168-d8e3d2333088"
      },
      "execution_count": 4,
      "outputs": [
        {
          "output_type": "stream",
          "name": "stdout",
          "text": [
            "25 <class 'int'>\n"
          ]
        }
      ]
    },
    {
      "cell_type": "code",
      "source": [
        "# Problem 2: Convert a float number into a string\n",
        "float_number = 3.14159\n",
        "# Expected output: \"3.14159\" as a string\n",
        "print(float_number,\"as a string\")"
      ],
      "metadata": {
        "colab": {
          "base_uri": "https://localhost:8080/"
        },
        "id": "Gb4jphMTCV69",
        "outputId": "9c95285a-1a57-4e24-cc00-8667f01d6831"
      },
      "execution_count": 5,
      "outputs": [
        {
          "output_type": "stream",
          "name": "stdout",
          "text": [
            "3.14159 as a string\n"
          ]
        }
      ]
    },
    {
      "cell_type": "code",
      "source": [
        "str_pi = str(float_number)\n",
        "print(str_pi, type(str_pi))"
      ],
      "metadata": {
        "colab": {
          "base_uri": "https://localhost:8080/"
        },
        "id": "OP3fpqF_C00N",
        "outputId": "7b937f7a-e056-4f7e-e36a-024b70497374"
      },
      "execution_count": 6,
      "outputs": [
        {
          "output_type": "stream",
          "name": "stdout",
          "text": [
            "3.14159 <class 'str'>\n"
          ]
        }
      ]
    },
    {
      "cell_type": "code",
      "source": [
        "# Problem 3: Convert a boolean value into an integer\n",
        "is_active = True\n",
        "# Expected output: 1 (True -> 1, False -> 0)\n",
        "result = int(is_active)\n",
        "print(result)"
      ],
      "metadata": {
        "colab": {
          "base_uri": "https://localhost:8080/"
        },
        "id": "ygndjBiFC7X1",
        "outputId": "7896e3e0-5322-4419-a23e-e499d5ee2578"
      },
      "execution_count": 10,
      "outputs": [
        {
          "output_type": "stream",
          "name": "stdout",
          "text": [
            "1\n"
          ]
        }
      ]
    },
    {
      "cell_type": "code",
      "source": [
        "type(is_active)"
      ],
      "metadata": {
        "colab": {
          "base_uri": "https://localhost:8080/"
        },
        "id": "XxlZosgTEMKN",
        "outputId": "3c03f368-148d-4221-b8b5-23bbd067cba0"
      },
      "execution_count": 11,
      "outputs": [
        {
          "output_type": "execute_result",
          "data": {
            "text/plain": [
              "bool"
            ]
          },
          "metadata": {},
          "execution_count": 11
        }
      ]
    },
    {
      "cell_type": "code",
      "source": [
        "str_bool = str(is_active)\n",
        "print(str_bool, type(str_bool))"
      ],
      "metadata": {
        "colab": {
          "base_uri": "https://localhost:8080/"
        },
        "id": "XgP7x8K_ENZ-",
        "outputId": "6803688e-dd69-469a-b072-4ace3478f2c9"
      },
      "execution_count": 12,
      "outputs": [
        {
          "output_type": "stream",
          "name": "stdout",
          "text": [
            "True <class 'str'>\n"
          ]
        }
      ]
    }
  ]
}