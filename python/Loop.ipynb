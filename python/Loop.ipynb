{
  "nbformat": 4,
  "nbformat_minor": 0,
  "metadata": {
    "colab": {
      "provenance": []
    },
    "kernelspec": {
      "name": "python3",
      "display_name": "Python 3"
    },
    "language_info": {
      "name": "python"
    }
  },
  "cells": [
    {
      "cell_type": "code",
      "execution_count": null,
      "metadata": {
        "colab": {
          "base_uri": "https://localhost:8080/"
        },
        "id": "zdu3GI6Zf2r-",
        "outputId": "52ddc51c-ae43-4a09-cca7-c3f04ab0cd5f"
      },
      "outputs": [
        {
          "output_type": "stream",
          "name": "stdout",
          "text": [
            "1\n",
            "2\n",
            "3\n",
            "4\n",
            "5\n"
          ]
        }
      ],
      "source": [
        "#Loop\n",
        "#For Loop\n",
        "list1 =[1,2,3,4,5]\n",
        "for i in list1:\n",
        "  print(i)"
      ]
    },
    {
      "cell_type": "code",
      "source": [
        "#For Loop\n",
        "fruits = [\"apple\",\"banana\",\"cherry\"]\n",
        "for fruit in fruits:\n",
        "  print(fruit)"
      ],
      "metadata": {
        "colab": {
          "base_uri": "https://localhost:8080/"
        },
        "id": "JyUI0OMdrjDt",
        "outputId": "5c04a33d-1d0d-4d62-a4d6-94feea966127"
      },
      "execution_count": null,
      "outputs": [
        {
          "output_type": "stream",
          "name": "stdout",
          "text": [
            "apple\n",
            "banana\n",
            "cherry\n"
          ]
        }
      ]
    },
    {
      "cell_type": "code",
      "source": [
        "#Range\n",
        "for num in range(1,6):\n",
        "  print(num)"
      ],
      "metadata": {
        "colab": {
          "base_uri": "https://localhost:8080/"
        },
        "id": "yO74_Yker--a",
        "outputId": "d8d9f318-0b67-4660-d8a7-4ed926665eaf"
      },
      "execution_count": null,
      "outputs": [
        {
          "output_type": "stream",
          "name": "stdout",
          "text": [
            "1\n",
            "2\n",
            "3\n",
            "4\n",
            "5\n"
          ]
        }
      ]
    },
    {
      "cell_type": "code",
      "source": [
        "# Enumarate in for loop\n",
        "Names = [\"alice\",\"Bob\",\"David\"]\n",
        "for index,name in enumerate(Names):\n",
        "  print(f\"index:{index},Name:{name}\")\n"
      ],
      "metadata": {
        "colab": {
          "base_uri": "https://localhost:8080/"
        },
        "id": "mIAgVpOEsQBj",
        "outputId": "08d0d7b8-a3c4-4769-a144-e90808757318"
      },
      "execution_count": null,
      "outputs": [
        {
          "output_type": "stream",
          "name": "stdout",
          "text": [
            "index:0,Name:alice\n",
            "index:1,Name:Bob\n",
            "index:2,Name:David\n"
          ]
        }
      ]
    },
    {
      "cell_type": "code",
      "source": [
        "#While Loop\n",
        "numbers=[]\n",
        "i=1\n",
        "while i <=5:\n",
        "  numbers.append(i)\n",
        "  i += 1\n",
        "\n",
        "print(numbers)\n"
      ],
      "metadata": {
        "id": "s-0yAvOhwPdm",
        "colab": {
          "base_uri": "https://localhost:8080/"
        },
        "outputId": "90e1601f-eeaa-4bc4-f2ad-188da3b68ca6"
      },
      "execution_count": 2,
      "outputs": [
        {
          "output_type": "stream",
          "name": "stdout",
          "text": [
            "[1, 2, 3, 4, 5]\n"
          ]
        }
      ]
    }
  ]
}