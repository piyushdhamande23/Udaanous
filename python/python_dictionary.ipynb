{
  "nbformat": 4,
  "nbformat_minor": 0,
  "metadata": {
    "colab": {
      "provenance": []
    },
    "kernelspec": {
      "name": "python3",
      "display_name": "Python 3"
    },
    "language_info": {
      "name": "python"
    }
  },
  "cells": [
    {
      "cell_type": "code",
      "execution_count": 1,
      "metadata": {
        "colab": {
          "base_uri": "https://localhost:8080/"
        },
        "id": "-BbEqr1hizqA",
        "outputId": "fd6c285b-01e7-4aa8-855b-72e09f4abc41"
      },
      "outputs": [
        {
          "output_type": "stream",
          "name": "stdout",
          "text": [
            "Alice\n",
            "A\n"
          ]
        }
      ],
      "source": [
        "# Dictionary\n",
        "student = {\"name\": \"Alice\", \"age\": 20, \"grade\": \"A\", \"city\": \"New York\"}\n",
        "\n",
        "print(student[\"name\"])\n",
        "print(student[\"grade\"])"
      ]
    },
    {
      "cell_type": "code",
      "source": [
        "student[\"email\"] = \"alice@example.com\"\n",
        "student"
      ],
      "metadata": {
        "colab": {
          "base_uri": "https://localhost:8080/"
        },
        "id": "ErV0L5QJjyGS",
        "outputId": "52b4365a-ceb8-4092-d531-6c00462c8da8"
      },
      "execution_count": 2,
      "outputs": [
        {
          "output_type": "execute_result",
          "data": {
            "text/plain": [
              "{'name': 'Alice',\n",
              " 'age': 20,\n",
              " 'grade': 'A',\n",
              " 'city': 'New York',\n",
              " 'email': 'alice@example.com'}"
            ]
          },
          "metadata": {},
          "execution_count": 2
        }
      ]
    },
    {
      "cell_type": "code",
      "source": [
        "del student[\"city\"]\n",
        "\n",
        "student"
      ],
      "metadata": {
        "colab": {
          "base_uri": "https://localhost:8080/"
        },
        "id": "_HNQvEwLj3j8",
        "outputId": "d86b4f53-37ae-41b1-a190-c54a1f2f7b5c"
      },
      "execution_count": 3,
      "outputs": [
        {
          "output_type": "execute_result",
          "data": {
            "text/plain": [
              "{'name': 'Alice', 'age': 20, 'grade': 'A', 'email': 'alice@example.com'}"
            ]
          },
          "metadata": {},
          "execution_count": 3
        }
      ]
    },
    {
      "cell_type": "code",
      "source": [
        "print(student.keys())\n",
        "print(student.values())\n",
        "print(student.items())"
      ],
      "metadata": {
        "colab": {
          "base_uri": "https://localhost:8080/"
        },
        "id": "9zZNrNI_j7Wc",
        "outputId": "c821e3f0-4e27-494a-c1ce-dee2643212a7"
      },
      "execution_count": 4,
      "outputs": [
        {
          "output_type": "stream",
          "name": "stdout",
          "text": [
            "dict_keys(['name', 'age', 'grade', 'email'])\n",
            "dict_values(['Alice', 20, 'A', 'alice@example.com'])\n",
            "dict_items([('name', 'Alice'), ('age', 20), ('grade', 'A'), ('email', 'alice@example.com')])\n"
          ]
        }
      ]
    }
  ]
}